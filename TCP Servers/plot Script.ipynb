{
 "cells": [
  {
   "cell_type": "code",
   "execution_count": 2,
   "id": "14be2f03",
   "metadata": {},
   "outputs": [
    {
     "name": "stdout",
     "output_type": "stream",
     "text": [
      "Requirement already satisfied: scapy in c:\\users\\kumar\\appdata\\local\\programs\\python\\python310\\lib\\site-packages (2.5.0)\n",
      "Note: you may need to restart the kernel to use updated packages.\n"
     ]
    }
   ],
   "source": [
    "pip install scapy\n"
   ]
  },
  {
   "cell_type": "code",
   "execution_count": 3,
   "id": "d6c0dca5",
   "metadata": {},
   "outputs": [
    {
     "name": "stderr",
     "output_type": "stream",
     "text": [
      "WARNING: No libpcap provider available ! pcap won't be used\n"
     ]
    }
   ],
   "source": [
    "from scapy.all import rdpcap\n",
    "from scapy.layers.inet import TCP, IP\n",
    "import numpy as np\n",
    "import matplotlib.pyplot as plt"
   ]
  },
  {
   "cell_type": "code",
   "execution_count": 6,
   "id": "7306e371",
   "metadata": {},
   "outputs": [
    {
     "data": {
      "image/png": "[encoded data removed]",
      "text/plain": [
       "<Figure size 720x360 with 2 Axes>"
      ]
     },
     "metadata": {
      "needs_background": "light"
     },
     "output_type": "display_data"
    }
   ],
   "source": [
    "\n",
    "def calculate_throughput(packets):\n",
    "    if len(packets) < 2:\n",
    "        return 0 \n",
    "\n",
    "    total_bytes = sum(len(packet) * 8 for packet in packets)\n",
    "    duration = packets[-1].time - packets[0].time\n",
    "    return total_bytes / duration\n",
    "\n",
    "\n",
    "\n",
    "def calculate_latency(packets):\n",
    "    if len(packets) < 2:\n",
    "        return 0\n",
    "    return np.mean([(float(packets[i].time) - float(packets[i - 1].time)) * 1000 for i in range(1, len(packets))])\n",
    "\n",
    "\n",
    "l=[\"fork1000_\"]\n",
    "\n",
    "for i in l:\n",
    "    \n",
    "    packets = rdpcap(i+'.pcapng')\n",
    "    \n",
    "    # Dictionary to store TCP flows and their packets\n",
    "    tcp_flows = {}\n",
    "\n",
    "    \n",
    "    for packet in packets:\n",
    "        if TCP in packet and IP in packet:\n",
    "            flow_key = (\n",
    "                packet[IP].src,\n",
    "                packet[IP].dst,\n",
    "                packet[TCP].sport,\n",
    "                packet[TCP].dport\n",
    "            )\n",
    "            if flow_key not in tcp_flows:\n",
    "                tcp_flows[flow_key] = []\n",
    "            tcp_flows[flow_key].append(packet)\n",
    "\n",
    "    # average throughput and latency for each TCP flow\n",
    "    throughputs = []\n",
    "    latencies = []\n",
    "\n",
    "    for flow_key, packets in tcp_flows.items():\n",
    "        throughput = calculate_throughput(packets)\n",
    "        latency = calculate_latency(packets)\n",
    "        throughputs.append(throughput)\n",
    "        latencies.append(latency)\n",
    "\n",
    "    \n",
    "    plt.figure(figsize=(10, 5))\n",
    "\n",
    "    plt.subplot(1, 2, 1)\n",
    "    plt.bar(range(len(throughputs)), throughputs, color='blue')\n",
    "    plt.xlabel('TCP Flows')\n",
    "    plt.ylabel('Throughput (bits per second)')\n",
    "    plt.title('Average Throughput for TCP Flows'+i)\n",
    "\n",
    "    plt.subplot(1, 2, 2)\n",
    "    plt.bar(range(len(latencies)), latencies, color='red')\n",
    "    plt.xlabel('TCP Flows')\n",
    "    plt.ylabel('Latency (milliseconds)')\n",
    "    plt.title('Average Latency for TCP Flows'+i)\n",
    "\n",
    "    plt.tight_layout()\n",
    "    plt.savefig(i+'_plot.jpg', format='jpg')\n",
    "    plt.show()\n",
    "\n"
   ]
  },
  {
   "cell_type": "code",
   "execution_count": null,
   "id": "9bf0ea41",
   "metadata": {},
   "outputs": [],
   "source": []
  }
 ],
 "metadata": {
  "kernelspec": {
   "display_name": "Python 3 (ipykernel)",
   "language": "python",
   "name": "python3"
  },
  "language_info": {
   "codemirror_mode": {
    "name": "ipython",
    "version": 3
   },
   "file_extension": ".py",
   "mimetype": "text/x-python",
   "name": "python",
   "nbconvert_exporter": "python",
   "pygments_lexer": "ipython3",
   "version": "3.10.4"
  }
 },
 "nbformat": 4,
 "nbformat_minor": 5
}
